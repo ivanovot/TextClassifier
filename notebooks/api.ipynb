{
 "cells": [
  {
   "cell_type": "markdown",
   "metadata": {},
   "source": [
    "# Демонстрация работы API"
   ]
  },
  {
   "cell_type": "code",
   "execution_count": 1,
   "metadata": {},
   "outputs": [],
   "source": [
    "text = \"Привет мир\""
   ]
  },
  {
   "cell_type": "markdown",
   "metadata": {},
   "source": [
    "## Способ 1"
   ]
  },
  {
   "cell_type": "code",
   "execution_count": 2,
   "metadata": {},
   "outputs": [
    {
     "name": "stderr",
     "output_type": "stream",
     "text": [
      "/home/timo/rep/TextClassifier/venv/lib/python3.12/site-packages/tqdm/auto.py:21: TqdmWarning: IProgress not found. Please update jupyter and ipywidgets. See https://ipywidgets.readthedocs.io/en/stable/user_install.html\n",
      "  from .autonotebook import tqdm as notebook_tqdm\n"
     ]
    },
    {
     "name": "stdout",
     "output_type": "stream",
     "text": [
      "Loaded as API: http://0.0.0.0:7860/ ✔\n",
      "Текст: Привет мир\n",
      "Статус: Positive\n"
     ]
    }
   ],
   "source": [
    "from gradio_client import Client\n",
    "\n",
    "def classify_text(text: str) -> str:\n",
    "    # Создаем клиент для общения с сервером\n",
    "    client = Client(\"http://0.0.0.0:7860/\")\n",
    "\n",
    "    # Отправляем текст для классификации\n",
    "    result = client.predict(\n",
    "        text=text,\n",
    "        api_name=\"/predict\"\n",
    "    )\n",
    "\n",
    "    # Обрабатываем результат\n",
    "    if result:\n",
    "        status = result[0]\n",
    "        return status\n",
    "\n",
    "    return \"Ошибка классификации\"\n",
    "\n",
    "# Пример использования функции\n",
    "status = classify_text(text)\n",
    "\n",
    "print(f\"Текст: {text}\")\n",
    "print(f\"Статус: {status}\")"
   ]
  },
  {
   "cell_type": "markdown",
   "metadata": {},
   "source": [
    "## Способ 2"
   ]
  },
  {
   "cell_type": "code",
   "execution_count": 3,
   "metadata": {},
   "outputs": [
    {
     "name": "stdout",
     "output_type": "stream",
     "text": [
      "Текст: Привет мир\n",
      "Статус: Positive\n"
     ]
    }
   ],
   "source": [
    "import requests\n",
    "\n",
    "def classify_text(text: str) -> str:\n",
    "    # URL и заголовки для POST-запроса\n",
    "    url = 'http://0.0.0.0:7860/gradio_api/call/predict'\n",
    "    headers = {'Content-Type': 'application/json'}\n",
    "    data = {\"data\": [text]}\n",
    "\n",
    "    # Отправляем POST-запрос для классификации\n",
    "    response = requests.post(url, json=data, headers=headers)\n",
    "\n",
    "    # Проверяем успешность ответа\n",
    "    if response.status_code == 200:\n",
    "        # Извлекаем EVENT_ID из ответа\n",
    "        event_id = response.json().get('event_id')\n",
    "\n",
    "        # Проверяем, что event_id присутствует\n",
    "        if event_id:\n",
    "            # Второй запрос с EVENT_ID для получения классификации\n",
    "            event_url = f'http://0.0.0.0:7860/gradio_api/call/predict/{event_id}'\n",
    "            event_response = requests.get(event_url)\n",
    "\n",
    "            # Если второй запрос успешен\n",
    "            if event_response.status_code == 200:\n",
    "                for line in event_response.iter_lines():\n",
    "                    if line:\n",
    "                        decoded_line = line.decode('utf-8')\n",
    "\n",
    "                        if 'data: ' in decoded_line:\n",
    "                            parsed_data = decoded_line.split('data: ')[1]\n",
    "                            parsed_data = parsed_data.strip('[]').split(', ')\n",
    "\n",
    "                            # Извлекаем статус\n",
    "                            status = parsed_data[0].strip('\"')\n",
    "                            return status\n",
    "\n",
    "    return \"Ошибка классификации\"\n",
    "\n",
    "# Пример использования функции\n",
    "status = classify_text(text)\n",
    "\n",
    "print(f\"Текст: {text}\")\n",
    "print(f\"Статус: {status}\")"
   ]
  }
 ],
 "metadata": {
  "kernelspec": {
   "display_name": "venv",
   "language": "python",
   "name": "python3"
  },
  "language_info": {
   "codemirror_mode": {
    "name": "ipython",
    "version": 3
   },
   "file_extension": ".py",
   "mimetype": "text/x-python",
   "name": "python",
   "nbconvert_exporter": "python",
   "pygments_lexer": "ipython3",
   "version": "3.12.3"
  }
 },
 "nbformat": 4,
 "nbformat_minor": 2
}
