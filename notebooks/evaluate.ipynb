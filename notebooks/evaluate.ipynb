{
 "cells": [
  {
   "cell_type": "code",
   "execution_count": 1,
   "metadata": {},
   "outputs": [
    {
     "name": "stderr",
     "output_type": "stream",
     "text": [
      "/home/timo/rep/TextClassifier/venv/lib/python3.12/site-packages/tqdm/auto.py:21: TqdmWarning: IProgress not found. Please update jupyter and ipywidgets. See https://ipywidgets.readthedocs.io/en/stable/user_install.html\n",
      "  from .autonotebook import tqdm as notebook_tqdm\n"
     ]
    }
   ],
   "source": [
    "import os\n",
    "os.chdir('..')\n",
    "\n",
    "from src.load_model import model\n",
    "import pandas as pd\n",
    "import numpy as np"
   ]
  },
  {
   "cell_type": "code",
   "execution_count": 2,
   "metadata": {},
   "outputs": [
    {
     "data": {
      "text/html": [
       "<div>\n",
       "<style scoped>\n",
       "    .dataframe tbody tr th:only-of-type {\n",
       "        vertical-align: middle;\n",
       "    }\n",
       "\n",
       "    .dataframe tbody tr th {\n",
       "        vertical-align: top;\n",
       "    }\n",
       "\n",
       "    .dataframe thead th {\n",
       "        text-align: right;\n",
       "    }\n",
       "</style>\n",
       "<table border=\"1\" class=\"dataframe\">\n",
       "  <thead>\n",
       "    <tr style=\"text-align: right;\">\n",
       "      <th></th>\n",
       "      <th>text</th>\n",
       "      <th>label</th>\n",
       "    </tr>\n",
       "  </thead>\n",
       "  <tbody>\n",
       "    <tr>\n",
       "      <th>0</th>\n",
       "      <td>хорошо пошло!</td>\n",
       "      <td>0</td>\n",
       "    </tr>\n",
       "    <tr>\n",
       "      <th>1</th>\n",
       "      <td>посмотрела, как будто дома побывала. как река ...</td>\n",
       "      <td>0</td>\n",
       "    </tr>\n",
       "    <tr>\n",
       "      <th>2</th>\n",
       "      <td>отдам котят 1,5 месяца в добрые руки.</td>\n",
       "      <td>0</td>\n",
       "    </tr>\n",
       "    <tr>\n",
       "      <th>3</th>\n",
       "      <td>0,5литровая баночка 200р стоит в таганроге. та...</td>\n",
       "      <td>0</td>\n",
       "    </tr>\n",
       "    <tr>\n",
       "      <th>4</th>\n",
       "      <td>речь шла о радужных зонтиках над верандой.</td>\n",
       "      <td>0</td>\n",
       "    </tr>\n",
       "    <tr>\n",
       "      <th>...</th>\n",
       "      <td>...</td>\n",
       "      <td>...</td>\n",
       "    </tr>\n",
       "    <tr>\n",
       "      <th>24824</th>\n",
       "      <td>и ты будь здоров</td>\n",
       "      <td>0</td>\n",
       "    </tr>\n",
       "    <tr>\n",
       "      <th>24825</th>\n",
       "      <td>не дорога а прям стекло но правда битое (h)</td>\n",
       "      <td>0</td>\n",
       "    </tr>\n",
       "    <tr>\n",
       "      <th>24826</th>\n",
       "      <td>спасибо большое. буду ждать хороших новостей. ...</td>\n",
       "      <td>0</td>\n",
       "    </tr>\n",
       "    <tr>\n",
       "      <th>24827</th>\n",
       "      <td>активирую установку 🌈🌈🌈👍😎🔥🔥🔥</td>\n",
       "      <td>0</td>\n",
       "    </tr>\n",
       "    <tr>\n",
       "      <th>24828</th>\n",
       "      <td>а вы курс российского рубля видели, кошмар!!!</td>\n",
       "      <td>0</td>\n",
       "    </tr>\n",
       "  </tbody>\n",
       "</table>\n",
       "<p>24829 rows × 2 columns</p>\n",
       "</div>"
      ],
      "text/plain": [
       "                                                    text  label\n",
       "0                                          хорошо пошло!      0\n",
       "1      посмотрела, как будто дома побывала. как река ...      0\n",
       "2                  отдам котят 1,5 месяца в добрые руки.      0\n",
       "3      0,5литровая баночка 200р стоит в таганроге. та...      0\n",
       "4             речь шла о радужных зонтиках над верандой.      0\n",
       "...                                                  ...    ...\n",
       "24824                                   и ты будь здоров      0\n",
       "24825        не дорога а прям стекло но правда битое (h)      0\n",
       "24826  спасибо большое. буду ждать хороших новостей. ...      0\n",
       "24827                       активирую установку 🌈🌈🌈👍😎🔥🔥🔥      0\n",
       "24828      а вы курс российского рубля видели, кошмар!!!      0\n",
       "\n",
       "[24829 rows x 2 columns]"
      ]
     },
     "execution_count": 2,
     "metadata": {},
     "output_type": "execute_result"
    }
   ],
   "source": [
    "splits = {'train': 'train.jsonl', 'test': 'test.jsonl'}\n",
    "test = pd.read_json(\"hf://datasets/AlexSham/Toxic_Russian_Comments/\" + splits[\"test\"], lines=True)\n",
    "test"
   ]
  },
  {
   "cell_type": "code",
   "execution_count": 3,
   "metadata": {},
   "outputs": [
    {
     "name": "stderr",
     "output_type": "stream",
     "text": [
      "100%|██████████| 97/97 [00:39<00:00,  2.44it/s]\n"
     ]
    }
   ],
   "source": [
    "from tqdm import tqdm\n",
    "\n",
    "# Размер батча\n",
    "batch_size = 256\n",
    "\n",
    "test['pred'] = [\n",
    "    model(text).item()\n",
    "    for batch in tqdm(range(0, len(test), batch_size))\n",
    "    for text in test['text'][batch:batch + batch_size]\n",
    "]"
   ]
  },
  {
   "cell_type": "code",
   "execution_count": 4,
   "metadata": {},
   "outputs": [
    {
     "name": "stdout",
     "output_type": "stream",
     "text": [
      "\n",
      "Classification Report:\n",
      "              precision    recall  f1-score   support\n",
      "\n",
      "   non-toxic       0.99      0.98      0.98     20369\n",
      "       toxic       0.92      0.94      0.93      4460\n",
      "\n",
      "    accuracy                           0.98     24829\n",
      "   macro avg       0.96      0.96      0.96     24829\n",
      "weighted avg       0.98      0.98      0.98     24829\n",
      "\n"
     ]
    }
   ],
   "source": [
    "from sklearn.metrics import classification_report\n",
    "\n",
    "threshold = 0.5\n",
    "\n",
    "pred = test['pred'].apply(lambda x: 1 if x >= threshold else 0)\n",
    "\n",
    "# Вычисление основных метрик\n",
    "class_report = classification_report(test['label'], pred, target_names=['non-toxic', 'toxic'])\n",
    "\n",
    "print(\"\\nClassification Report:\")\n",
    "print(class_report)"
   ]
  },
  {
   "cell_type": "code",
   "execution_count": 5,
   "metadata": {},
   "outputs": [
    {
     "data": {
      "image/png": "[encoded data removed]",
      "text/plain": [
       "<Figure size 640x480 with 1 Axes>"
      ]
     },
     "metadata": {},
     "output_type": "display_data"
    }
   ],
   "source": [
    "import matplotlib.pyplot as plt\n",
    "from sklearn.metrics import precision_recall_curve\n",
    "\n",
    "# Предсказания модели: вероятности для положительного класса\n",
    "y_probs = test['pred']\n",
    "\n",
    "# Истинные метки\n",
    "y_true = test['label']\n",
    "\n",
    "# Вычисление Precision-Recall кривой для разных порогов\n",
    "precision, recall, thresholds = precision_recall_curve(y_true, y_probs)\n",
    "\n",
    "# Построение Precision-Recall кривой\n",
    "plt.plot(recall, precision, \n",
    "         color='blue',)\n",
    "plt.grid(\n",
    "    color='gray',\n",
    ")\n",
    "plt.xlabel('Recall')\n",
    "plt.ylabel('Precision')\n",
    "plt.title('Precision-Recall Curve')\n",
    "plt.show()"
   ]
  },
  {
   "cell_type": "code",
   "execution_count": 6,
   "metadata": {},
   "outputs": [
    {
     "data": {
      "text/plain": [
       "0.7482494115829468"
      ]
     },
     "execution_count": 6,
     "metadata": {},
     "output_type": "execute_result"
    }
   ],
   "source": [
    "def get_thresholds(thresholds_precision):\n",
    "    return thresholds[np.where(precision>=thresholds_precision)[0][0]].item()\n",
    "\n",
    "get_thresholds(0.95)"
   ]
  },
  {
   "cell_type": "code",
   "execution_count": 7,
   "metadata": {},
   "outputs": [
    {
     "name": "stdout",
     "output_type": "stream",
     "text": [
      "\n",
      "Classification Report:\n",
      "              precision    recall  f1-score   support\n",
      "\n",
      "   non-toxic       0.98      0.99      0.99     20369\n",
      "       toxic       0.95      0.91      0.93      4460\n",
      "\n",
      "    accuracy                           0.98     24829\n",
      "   macro avg       0.97      0.95      0.96     24829\n",
      "weighted avg       0.98      0.98      0.98     24829\n",
      "\n"
     ]
    }
   ],
   "source": [
    "threshold = 0.75\n",
    "\n",
    "pred = test['pred'].apply(lambda x: 1 if x >= threshold else 0)\n",
    "\n",
    "# Вычисление основных метрик\n",
    "class_report = classification_report(test['label'], pred, target_names=['non-toxic', 'toxic'])\n",
    "\n",
    "print(\"\\nClassification Report:\")\n",
    "print(class_report)"
   ]
  }
 ],
 "metadata": {
  "kernelspec": {
   "display_name": "venv",
   "language": "python",
   "name": "python3"
  },
  "language_info": {
   "codemirror_mode": {
    "name": "ipython",
    "version": 3
   },
   "file_extension": ".py",
   "mimetype": "text/x-python",
   "name": "python",
   "nbconvert_exporter": "python",
   "pygments_lexer": "ipython3",
   "version": "3.12.3"
  }
 },
 "nbformat": 4,
 "nbformat_minor": 2
}
